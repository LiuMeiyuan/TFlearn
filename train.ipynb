{
 "cells": [
  {
   "cell_type": "code",
   "execution_count": null,
   "metadata": {},
   "outputs": [],
   "source": [
    "# This program use u-net to do binary segmentation on ill skin"
   ]
  },
  {
   "cell_type": "code",
   "execution_count": 2,
   "metadata": {},
   "outputs": [],
   "source": [
    "from __future__ import division\n",
    "\n",
    "import tensorflow as tf \n",
    "from glob import glob\n",
    "import numpy as np\n",
    "import os\n",
    "from PIL import Image\n",
    "\n",
    "import config as cfg \n",
    "from model import u_net"
   ]
  },
  {
   "cell_type": "code",
   "execution_count": null,
   "metadata": {},
   "outputs": [],
   "source": [
    "def \n",
    "im_paths = sorted(glob(os.path.join(cfg.data_dir, '*.png')))\n",
    "gt_paths = sorted(glob(os.path.join(cfg.gt_dir, '*.png')))\n",
    "\n",
    "split_index = int(len(im_paths) * (1 - cfg.validation_fraction))\n",
    "train_set = zip(im_paths[:split_index], gt_paths[:split_index])\n",
    "validation_set = zip(im_paths[split_index:], gt_paths[split_index:])\n",
    "\n",
    "train_iter = int(len(train_set) / cfg.batch_size)\n",
    "validation_iter = int(len(validation_set) / cfg.batch_size)"
   ]
  },
  {
   "cell_type": "code",
   "execution_count": 11,
   "metadata": {},
   "outputs": [
    {
     "ename": "AttributeError",
     "evalue": "'module' object has no attribute 'recordPath'",
     "output_type": "error",
     "traceback": [
      "\u001b[0;31m---------------------------------------------------------------------------\u001b[0m",
      "\u001b[0;31mAttributeError\u001b[0m                            Traceback (most recent call last)",
      "\u001b[0;32m<ipython-input-11-29b6ede6c7e2>\u001b[0m in \u001b[0;36m<module>\u001b[0;34m()\u001b[0m\n\u001b[1;32m      4\u001b[0m     \u001b[0mrecord_writer\u001b[0m \u001b[0;34m=\u001b[0m \u001b[0mtf\u001b[0m\u001b[0;34m.\u001b[0m\u001b[0mpython_io\u001b[0m\u001b[0;34m.\u001b[0m\u001b[0mTFRecordWriter\u001b[0m\u001b[0;34m(\u001b[0m\u001b[0mcfg\u001b[0m\u001b[0;34m.\u001b[0m\u001b[0mrecordPath\u001b[0m\u001b[0;34m)\u001b[0m\u001b[0;34m\u001b[0m\u001b[0m\n\u001b[1;32m      5\u001b[0m     \u001b[0mrecord_writer\u001b[0m\u001b[0;34m.\u001b[0m\u001b[0mwrite\u001b[0m\u001b[0;34m(\u001b[0m\u001b[0mim_paths\u001b[0m\u001b[0;34m)\u001b[0m\u001b[0;34m\u001b[0m\u001b[0m\n\u001b[0;32m----> 6\u001b[0;31m \u001b[0mbatch_load\u001b[0m\u001b[0;34m(\u001b[0m\u001b[0;34m)\u001b[0m\u001b[0;34m\u001b[0m\u001b[0m\n\u001b[0m",
      "\u001b[0;32m<ipython-input-11-29b6ede6c7e2>\u001b[0m in \u001b[0;36mbatch_load\u001b[0;34m()\u001b[0m\n\u001b[1;32m      2\u001b[0m     \u001b[0mim_paths\u001b[0m \u001b[0;34m=\u001b[0m \u001b[0mstr\u001b[0m\u001b[0;34m(\u001b[0m\u001b[0msorted\u001b[0m\u001b[0;34m(\u001b[0m\u001b[0mglob\u001b[0m\u001b[0;34m(\u001b[0m\u001b[0mos\u001b[0m\u001b[0;34m.\u001b[0m\u001b[0mpath\u001b[0m\u001b[0;34m.\u001b[0m\u001b[0mjoin\u001b[0m\u001b[0;34m(\u001b[0m\u001b[0mcfg\u001b[0m\u001b[0;34m.\u001b[0m\u001b[0mdata_dir\u001b[0m\u001b[0;34m,\u001b[0m \u001b[0;34m'*.png'\u001b[0m\u001b[0;34m)\u001b[0m\u001b[0;34m)\u001b[0m\u001b[0;34m)\u001b[0m\u001b[0;34m)\u001b[0m\u001b[0;34m\u001b[0m\u001b[0m\n\u001b[1;32m      3\u001b[0m     \u001b[0mgt_paths\u001b[0m \u001b[0;34m=\u001b[0m \u001b[0msorted\u001b[0m\u001b[0;34m(\u001b[0m\u001b[0mglob\u001b[0m\u001b[0;34m(\u001b[0m\u001b[0mos\u001b[0m\u001b[0;34m.\u001b[0m\u001b[0mpath\u001b[0m\u001b[0;34m.\u001b[0m\u001b[0mjoin\u001b[0m\u001b[0;34m(\u001b[0m\u001b[0mcfg\u001b[0m\u001b[0;34m.\u001b[0m\u001b[0mgt_dir\u001b[0m\u001b[0;34m,\u001b[0m \u001b[0;34m'*.png'\u001b[0m\u001b[0;34m)\u001b[0m\u001b[0;34m)\u001b[0m\u001b[0;34m)\u001b[0m\u001b[0;34m\u001b[0m\u001b[0m\n\u001b[0;32m----> 4\u001b[0;31m     \u001b[0mrecord_writer\u001b[0m \u001b[0;34m=\u001b[0m \u001b[0mtf\u001b[0m\u001b[0;34m.\u001b[0m\u001b[0mpython_io\u001b[0m\u001b[0;34m.\u001b[0m\u001b[0mTFRecordWriter\u001b[0m\u001b[0;34m(\u001b[0m\u001b[0mcfg\u001b[0m\u001b[0;34m.\u001b[0m\u001b[0mrecordPath\u001b[0m\u001b[0;34m)\u001b[0m\u001b[0;34m\u001b[0m\u001b[0m\n\u001b[0m\u001b[1;32m      5\u001b[0m     \u001b[0mrecord_writer\u001b[0m\u001b[0;34m.\u001b[0m\u001b[0mwrite\u001b[0m\u001b[0;34m(\u001b[0m\u001b[0mim_paths\u001b[0m\u001b[0;34m)\u001b[0m\u001b[0;34m\u001b[0m\u001b[0m\n\u001b[1;32m      6\u001b[0m \u001b[0mbatch_load\u001b[0m\u001b[0;34m(\u001b[0m\u001b[0;34m)\u001b[0m\u001b[0;34m\u001b[0m\u001b[0m\n",
      "\u001b[0;31mAttributeError\u001b[0m: 'module' object has no attribute 'recordPath'"
     ]
    }
   ],
   "source": [
    "def batch_load():\n",
    "    im_paths = str(sorted(glob(os.path.join(cfg.data_dir, '*.png'))))\n",
    "    gt_paths = sorted(glob(os.path.join(cfg.gt_dir, '*.png')))\n",
    "    record_writer = tf.python_io.TFRecordWriter(cfg.recordPath)\n",
    "    record_writer.write(im_paths)\n",
    "batch_load()    "
   ]
  },
  {
   "cell_type": "code",
   "execution_count": null,
   "metadata": {},
   "outputs": [],
   "source": []
  },
  {
   "cell_type": "code",
   "execution_count": 8,
   "metadata": {},
   "outputs": [
    {
     "ename": "TypeError",
     "evalue": "log() takes at least 2 arguments (1 given)",
     "output_type": "error",
     "traceback": [
      "\u001b[0;31m---------------------------------------------------------------------------\u001b[0m",
      "\u001b[0;31mTypeError\u001b[0m                                 Traceback (most recent call last)",
      "\u001b[0;32m<ipython-input-8-20e261a88c0a>\u001b[0m in \u001b[0;36m<module>\u001b[0;34m()\u001b[0m\n\u001b[0;32m----> 1\u001b[0;31m \u001b[0mtf\u001b[0m\u001b[0;34m.\u001b[0m\u001b[0mlogging\u001b[0m\u001b[0;34m.\u001b[0m\u001b[0mlog\u001b[0m\u001b[0;34m(\u001b[0m\u001b[0;34m'just for testing'\u001b[0m\u001b[0;34m)\u001b[0m\u001b[0;34m\u001b[0m\u001b[0m\n\u001b[0m",
      "\u001b[0;31mTypeError\u001b[0m: log() takes at least 2 arguments (1 given)"
     ]
    }
   ],
   "source": [
    "tf.logging.log('just for testing')"
   ]
  },
  {
   "cell_type": "code",
   "execution_count": null,
   "metadata": {},
   "outputs": [],
   "source": [
    "def train():\n",
    "\n",
    "    im_paths = sorted(glob(os.path.join(cfg.data_dir, '*.png')))\n",
    "    gt_paths = sorted(glob(os.path.join(cfg.gt_dir, '*.png')))\n",
    "\n",
    "    split_index = int(len(im_paths) * (1 - cfg.validation_fraction))\n",
    "    train_set = zip(im_paths[:split_index], gt_paths[:split_index])\n",
    "    validation_set = zip(im_paths[split_index:], gt_paths[split_index:])\n",
    "\n",
    "    train_iter = int(len(train_set) / cfg.batch_size)\n",
    "    validation_iter = int(len(validation_set) / cfg.batch_size)\n",
    "\n",
    "#     x = tf.placeholder(tf.float32, [None, None, None, 3])\n",
    "#     y_gt = tf.placeholder(tf.float32, [None, None, None, 2])\n",
    "    x = tf.placeholder(tf.float32, [None, 2720, 1856, 3])\n",
    "    y_gt = tf.placeholder(tf.float32, [None, 2720, 1856, 2])\n",
    "    predictions, loss = u_net(x, y_gt)\n",
    "    print \"----------------load finished-------------------\"\n",
    "\n",
    "    optimizer = tf.train.GradientDescentOptimizer(cfg.learning_rate)\n",
    "    train = optimizer.minimize(loss)\n",
    "    accuracy, _ = tf.metrics.accuracy(y_gt[:,:,:,1], predictions, name = 'my_metric')\n",
    "\n",
    "    # ??????????\n",
    "    acc_vars = tf.get_collection(tf.GraphKeys.LOCAL_VARIABLES, scope=\"my_metric\")\n",
    "    acc_vars_initializer = tf.variables_initializer(var_list=acc_vars)\n",
    "\n",
    "    init = tf.global_variables_initializer()\n",
    "\n",
    "    saver = tf.train.Saver()\n",
    "    sess = tf.Session()\n",
    "    tf.summary.FileWriter(cfg.visual_dir, sess.graph)\n",
    "\n",
    "    sess.run(acc_vars_initializer)\n",
    "    sess.run(init)\n",
    "    for epoch in range(cfg.epoch):\n",
    "        np.random.shuffle(train_set)\n",
    "        np.random.shuffle(validation_set)\n",
    "\n",
    "        for iter in range(train_iter):\n",
    "            # inputs = np.array([], dtype = float)\n",
    "            # labels = np.array([], dtype = int)\n",
    "            for index in range(cfg.batch_size):\n",
    "                im = Image.open(train_set[iter * cfg.batch_size + index][0])\n",
    "                gt = Image.open(train_set[iter * cfg.batch_size + index][1])\n",
    "                im_data = np.array(im) / 255\n",
    "                gt_data = np.array(np.array(gt) / 255, dtype = int).reshape(gt.size[1], gt.size[0], 1)\n",
    "\n",
    "                map = np.ones(gt_data.shape, dtype = int)\n",
    "                bg_map = map - gt_data\n",
    "                gt_data = np.concatenate((bg_map, gt_data), axis = 2)\n",
    "\n",
    "                inputs = im_data.reshape(1, im_data.shape[0], im_data.shape[1], im_data.shape[2])\n",
    "                labels = gt_data.reshape(1, gt_data.shape[0], gt_data.shape[1], gt_data.shape[2])\n",
    "                print im_data.shape\n",
    "\n",
    "                # inputs = np.concatenate((inputs, im_data), axis = 0)\n",
    "                # labels = np.concatenate((label, gt_data), axis = 0)\n",
    "\n",
    "            _, loss, acc = sess.run((predictions, loss, accuracy), feed_dict = {x : inputs, y_gt : labels})\n",
    "    saver.save(sess, cfg.save_path)\n",
    "\n",
    "if __name__ == '__main__':\n",
    "    train()"
   ]
  },
  {
   "cell_type": "code",
   "execution_count": 1,
   "metadata": {},
   "outputs": [
    {
     "name": "stderr",
     "output_type": "stream",
     "text": [
      "/usr/local/lib/python2.7/dist-packages/requests/__init__.py:91: RequestsDependencyWarning: urllib3 (1.23) or chardet (2.3.0) doesn't match a supported version!\n",
      "  RequestsDependencyWarning)\n"
     ]
    }
   ],
   "source": [
    "from train import train"
   ]
  },
  {
   "cell_type": "code",
   "execution_count": null,
   "metadata": {},
   "outputs": [],
   "source": [
    "# %load config.py\n",
    "#files\n",
    "data_dir = 'data/resize/ISIC-2017_Training_Data'\n",
    "gt_dir = 'data/resize/ISIC-2017_Training_Part1_GroundTruth'\n",
    "model_save_path = 'output/'\n",
    "recordPath = 'data/'\n",
    "\n",
    "#train\n",
    "validation_fraction = 0.2\n",
    "epoch = 50\n",
    "batch_size = 1\n",
    "normalize = True\n",
    "learning_rate = 0.01\n",
    "\n",
    "#model\n",
    "depth = 4\n",
    "filters_first = 64\n",
    "\n",
    "#tensorboard\n",
    "visual_dir = '.'"
   ]
  },
  {
   "cell_type": "code",
   "execution_count": null,
   "metadata": {},
   "outputs": [],
   "source": [
    "# %load model.py\n",
    "from __future__ import division\n",
    "\n",
    "import tensorflow as tf \n",
    "\n",
    "import config as cfg \n",
    "\n",
    "def Downsampling_block(inputs, filters):\n",
    "    x = conv_group(inputs, filters)\n",
    "    pool_1 = tf.layers.max_pooling2d(x, 2, 2)\n",
    "    return x, pool_1\n",
    "\n",
    "def Upsampling_block(input_down, input_up, filters):\n",
    "    conv_trans = tf.layers.conv2d_transpose(input_up, filters, 2, strides = 2)\n",
    "\n",
    "    down_feature_shape = tf.shape(input_down)\n",
    "    up_feature_shape = tf.shape(conv_trans)\n",
    "    if down_feature_shape[1] % 2 != 0 :\n",
    "        # height_pad = down_feature_shape[1].value -up_feature_shape[1].value\n",
    "        # width_pad = down_feature_shape[2].value- up_feature_shape[2].value\n",
    "        conv_trans = tf.keras.layers.ZeroPadding2D(((0, 1), (0, 0))).apply(conv_trans)\n",
    "    if down_feature_shape[2] % 2 != 0:\n",
    "        conv_trans = tf.keras.layers.ZeroPadding2D(((0, 0), (0, 1))).apply(conv_trans)\n",
    "\n",
    "    x = tf.concat([input_down, conv_trans], axis = 3)\n",
    "    x = conv_group(x, filters)\n",
    "    return x\n",
    "\n",
    "def conv_group(inputs, filters):\n",
    "    x = tf.layers.conv2d(inputs, filters, 3,  padding = 'same')\n",
    "    x = tf.nn.relu(x)\n",
    "    x = tf.layers.conv2d(x, filters, 3,  padding = 'same')\n",
    "    x = tf.nn.relu(x)\n",
    "    return x\n",
    "\n",
    "def u_net(x, y_gt):\n",
    "\n",
    "    depth = cfg.depth\n",
    "    filters = cfg.filters_first\n",
    "    downsample_output = []\n",
    "\n",
    "    for i in range(depth):\n",
    "        down_feature_map, x = Downsampling_block(x, filters)\n",
    "        downsample_output.append(down_feature_map)\n",
    "        filters = filters * 2\n",
    "\n",
    "    x = conv_group(x, filters)\n",
    "    filters = int(filters / 2)\n",
    "\n",
    "    for i in range(depth):\n",
    "        x = Upsampling_block(downsample_output[depth - i - 1], x, filters)\n",
    "        filters = int(filters / 2)\n",
    "\n",
    "    logits = tf.layers.conv2d(x, 2, 1)\n",
    "\n",
    "    predictions = tf.argmax(logits, axis = 3)\n",
    "\n",
    "    loss = tf.losses.softmax_cross_entropy(y_gt, logits)\n",
    "    return predictions, loss"
   ]
  }
 ],
 "metadata": {
  "kernelspec": {
   "display_name": "Python 2",
   "language": "python",
   "name": "python2"
  },
  "language_info": {
   "codemirror_mode": {
    "name": "ipython",
    "version": 2
   },
   "file_extension": ".py",
   "mimetype": "text/x-python",
   "name": "python",
   "nbconvert_exporter": "python",
   "pygments_lexer": "ipython2",
   "version": "2.7.12"
  }
 },
 "nbformat": 4,
 "nbformat_minor": 2
}
