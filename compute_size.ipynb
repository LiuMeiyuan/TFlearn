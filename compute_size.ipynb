{
 "cells": [
  {
   "cell_type": "code",
   "execution_count": 2,
   "metadata": {},
   "outputs": [],
   "source": [
    "from __future__ import division\n",
    "from PIL import Image\n",
    "from glob import glob\n",
    "import numpy as np"
   ]
  },
  {
   "cell_type": "code",
   "execution_count": 20,
   "metadata": {},
   "outputs": [],
   "source": [
    "paths = glob('data/ISIC-2017_Training_Data/*.jpg')\n",
    "# paths = glob('data/ISIC-2017_Training_Part1_GroundTruth/*.png')\n",
    "im_shape = []\n",
    "for path in paths:\n",
    "    im = Image.open(path)\n",
    "    im_shape.append(im.size)\n",
    "im_shape = np.array(im_shape)"
   ]
  },
  {
   "cell_type": "code",
   "execution_count": 25,
   "metadata": {},
   "outputs": [
    {
     "name": "stdout",
     "output_type": "stream",
     "text": [
      "2000\n"
     ]
    }
   ],
   "source": [
    "print im_shape.shape[0]"
   ]
  },
  {
   "cell_type": "code",
   "execution_count": 9,
   "metadata": {},
   "outputs": [
    {
     "data": {
      "text/plain": [
       "'ISIC_0010336_superpixels.png'"
      ]
     },
     "execution_count": 9,
     "metadata": {},
     "output_type": "execute_result"
    }
   ],
   "source": [
    "path.split('/')[-1]"
   ]
  },
  {
   "cell_type": "code",
   "execution_count": 3,
   "metadata": {
    "scrolled": true
   },
   "outputs": [],
   "source": [
    "import os\n",
    "# dir_path = 'data/resize/ISIC-2017_Training_Data'\n",
    "dir_path = 'data/resize/ISIC-2017_Training_Part1_GroundTruth'\n",
    "if not os.path.exists(dir_path):\n",
    "    os.mkdir(dir_path)"
   ]
  },
  {
   "cell_type": "code",
   "execution_count": 26,
   "metadata": {},
   "outputs": [
    {
     "name": "stdout",
     "output_type": "stream",
     "text": [
      "2734.293\n"
     ]
    }
   ],
   "source": [
    "mean_height = sum(im_shape[:,0]) / im_shape.shape[0]\n",
    "mean_width = sum(im_shape[:,1]) / im_shape.shape[0]\n",
    "print mean_height"
   ]
  },
  {
   "cell_type": "code",
   "execution_count": 25,
   "metadata": {},
   "outputs": [
    {
     "name": "stdout",
     "output_type": "stream",
     "text": [
      "2734.293 1877.673\n"
     ]
    }
   ],
   "source": [
    "print mean_height, mean_width"
   ]
  },
  {
   "cell_type": "code",
   "execution_count": 26,
   "metadata": {},
   "outputs": [
    {
     "name": "stdout",
     "output_type": "stream",
     "text": [
      "1.45657964838\n"
     ]
    }
   ],
   "source": [
    "print 2734 / 1877"
   ]
  },
  {
   "cell_type": "code",
   "execution_count": 31,
   "metadata": {},
   "outputs": [
    {
     "name": "stdout",
     "output_type": "stream",
     "text": [
      "1856\n"
     ]
    }
   ],
   "source": [
    "print 32 * 58"
   ]
  },
  {
   "cell_type": "code",
   "execution_count": 32,
   "metadata": {},
   "outputs": [
    {
     "name": "stdout",
     "output_type": "stream",
     "text": [
      "2720\n"
     ]
    }
   ],
   "source": [
    "print 32 * 85"
   ]
  },
  {
   "cell_type": "code",
   "execution_count": 26,
   "metadata": {},
   "outputs": [
    {
     "name": "stdout",
     "output_type": "stream",
     "text": [
      "(2720, 1856, 3)\n"
     ]
    }
   ],
   "source": [
    "s = os.path.join('data', dir_path, path.split('/')[2])\n",
    "im = Image.open(s)\n",
    "im_data = np.array(im)\n",
    "print im_data.shape"
   ]
  },
  {
   "cell_type": "code",
   "execution_count": 34,
   "metadata": {},
   "outputs": [
    {
     "data": {
      "image/png": "[encoded data removed]",
      "text/plain": [
       "<Figure size 432x288 with 1 Axes>"
      ]
     },
     "metadata": {},
     "output_type": "display_data"
    },
    {
     "data": {
      "image/png": "[encoded data removed]",
      "text/plain": [
       "<Figure size 432x288 with 1 Axes>"
      ]
     },
     "metadata": {},
     "output_type": "display_data"
    }
   ],
   "source": [
    "import os\n",
    "from matplotlib import pyplot as plt\n",
    "# paths = glob('data/ISIC-2017_Training_Data/*.jpg')\n",
    "paths = glob('data/ISIC-2017_Training_Part1_GroundTruth/*.png')\n",
    "for path in paths[0:1]:\n",
    "    im = Image.open(path)\n",
    "    plt.imshow(im)\n",
    "    im_resize = im.resize((1344, 928))\n",
    "    im_data = np.array(im_resize)\n",
    "    new_im = Image.fromarray(im_data)\n",
    "    plt.figure()\n",
    "    plt.imshow(new_im)\n",
    "    new_im.save(os.path.join(path.split('/')[0], 'resize', path.split('/')[1], path.split('/')[2]))"
   ]
  }
 ],
 "metadata": {
  "kernelspec": {
   "display_name": "Python 2",
   "language": "python",
   "name": "python2"
  },
  "language_info": {
   "codemirror_mode": {
    "name": "ipython",
    "version": 2
   },
   "file_extension": ".py",
   "mimetype": "text/x-python",
   "name": "python",
   "nbconvert_exporter": "python",
   "pygments_lexer": "ipython2",
   "version": "2.7.12"
  }
 },
 "nbformat": 4,
 "nbformat_minor": 2
}
